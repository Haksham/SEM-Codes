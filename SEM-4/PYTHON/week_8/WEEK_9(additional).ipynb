{
  "cells": [
    {
      "cell_type": "code",
      "execution_count": null,
      "metadata": {
        "id": "prTBex5Qs1tf"
      },
      "outputs": [],
      "source": []
    },
    {
      "cell_type": "code",
      "execution_count": null,
      "metadata": {
        "id": "uy2gvEgapqHM"
      },
      "outputs": [],
      "source": [
        "import pandas as pd\n",
        "path = \"/content/drive/MyDrive/dataset/Diabetesdata.csv\""
      ]
    },
    {
      "cell_type": "code",
      "execution_count": null,
      "metadata": {
        "id": "kgghyooss-9m"
      },
      "outputs": [],
      "source": [
        "df = pd.read_csv(path) # Try reading with Latin-1 encoding"
      ]
    },
    {
      "cell_type": "code",
      "execution_count": null,
      "metadata": {
        "id": "jCuK2nP8tHu8"
      },
      "outputs": [],
      "source": [
        "Develop a python program read a dataset and perform the following using Pandas\n",
        "a. Display first 5 rows of the dataset.\n",
        "b. Display last 5 rows of the dataset.\n",
        "c. Display the information about the dataset.\n",
        "d. Display the overview of the values of each column.\n"
      ]
    },
    {
      "cell_type": "code",
      "execution_count": null,
      "metadata": {
        "colab": {
          "base_uri": "https://localhost:8080/"
        },
        "id": "GnaIVQsstN3R",
        "outputId": "bfcd58fd-b646-4ed4-dfd2-544ff3244df9"
      },
      "outputs": [],
      "source": [
        "# a. Display first 5 rows of the dataset\n",
        "print(\"First 5 rows of the dataset:\")\n",
        "print(df.head())"
      ]
    },
    {
      "cell_type": "code",
      "execution_count": null,
      "metadata": {
        "colab": {
          "base_uri": "https://localhost:8080/"
        },
        "id": "2uS1KSphtOHb",
        "outputId": "33381121-5072-4e12-c5da-8245ce84ca94"
      },
      "outputs": [],
      "source": [
        "# b. Display last 5 rows of the dataset\n",
        "print(\"\\nLast 5 rows of the dataset:\")\n",
        "print(df.tail())"
      ]
    },
    {
      "cell_type": "code",
      "execution_count": null,
      "metadata": {
        "colab": {
          "base_uri": "https://localhost:8080/"
        },
        "id": "CaHS92gQtORJ",
        "outputId": "86c76a86-e7e9-4968-c7c8-c78bd9745b82"
      },
      "outputs": [],
      "source": [
        "# c. Display information about the dataset\n",
        "print(\"\\nInformation about the dataset:\")\n",
        "print(df.info())"
      ]
    },
    {
      "cell_type": "code",
      "execution_count": null,
      "metadata": {
        "colab": {
          "base_uri": "https://localhost:8080/"
        },
        "id": "vzNngnPatOXa",
        "outputId": "7232c2eb-3a20-488b-d98a-8ca0a29d1821"
      },
      "outputs": [],
      "source": [
        "# d. Display overview of the values of each column\n",
        "print(\"\\nOverview of the values of each column:\")\n",
        "print(df.describe())"
      ]
    },
    {
      "cell_type": "code",
      "execution_count": null,
      "metadata": {
        "id": "pVl6P9HgtOdZ"
      },
      "outputs": [],
      "source": [
        "Develop a python program read a dataset and perform the following using Pandas\n",
        "\n",
        "a. Display the data excluding the rows with empty or NA values.\n",
        "b. Replace the NA values using mean of the column.\n",
        "c. Replace the NA values using median of the column.\n",
        "d. Display if the dataset has any duplicate entries or not"
      ]
    },
    {
      "cell_type": "code",
      "execution_count": null,
      "metadata": {
        "colab": {
          "base_uri": "https://localhost:8080/"
        },
        "id": "Sm7OwRULuUX1",
        "outputId": "a23e5dae-632e-4c27-c3cb-202e52b5b5a9"
      },
      "outputs": [],
      "source": [
        "# a. Display the data excluding the rows with empty or NA values\n",
        "cleaned_df = df.dropna()\n",
        "print(\"Dataset excluding rows with empty or NA values:\")\n",
        "print(cleaned_df)"
      ]
    },
    {
      "cell_type": "code",
      "execution_count": null,
      "metadata": {
        "colab": {
          "base_uri": "https://localhost:8080/",
          "height": 193
        },
        "id": "VKnw_U9juWDk",
        "outputId": "ff629e4e-fed3-4644-fee4-e184dc956681"
      },
      "outputs": [],
      "source": [
        "# b. Replace the NA values using mean of the column\n",
        "mean_filled_df = df.fillna(df.mean())\n",
        "print(\"\\nDataset with NA values replaced by column mean:\")\n",
        "print(mean_filled_df)\n"
      ]
    },
    {
      "cell_type": "code",
      "execution_count": null,
      "metadata": {
        "colab": {
          "base_uri": "https://localhost:8080/"
        },
        "id": "wbzvD959uWL0",
        "outputId": "ee81ed8a-4a66-4bf2-ee25-d3be3e226be2"
      },
      "outputs": [],
      "source": [
        "# c. Replace the NA values using median of the column\n",
        "median_filled_df = df.fillna(df.median())\n",
        "print(\"\\nDataset with NA values replaced by column median:\")\n",
        "print(median_filled_df)"
      ]
    },
    {
      "cell_type": "code",
      "execution_count": null,
      "metadata": {
        "colab": {
          "base_uri": "https://localhost:8080/"
        },
        "id": "e-8_rfhZuWS0",
        "outputId": "25a50bfd-fe71-487a-9cb6-0afb61ca29b6"
      },
      "outputs": [],
      "source": [
        "# d. Display if the dataset has any duplicate entries or not\n",
        "has_duplicates = df.duplicated().any()\n",
        "print(f\"\\nDoes the dataset have duplicate entries? {'Yes' if has_duplicates else 'No'}\")\n",
        "\n",
        "if has_duplicates:\n",
        "    print(\"\\nDuplicate rows:\")\n",
        "    print(df[df.duplicated()])\n",
        "#there is no duplicate data, in the below code we are adding the row that is already present."
      ]
    },
    {
      "cell_type": "code",
      "execution_count": null,
      "metadata": {
        "id": "bMzRpVrxuWZc"
      },
      "outputs": [],
      "source": [
        "# Define the new row data\n",
        "new_row_data = {\n",
        "    'Pregnant': 6,\n",
        "    'Glucose': 148,\n",
        "    'Diastolic_BP': 72,\n",
        "    'Skin_Fold': 35,\n",
        "    'Serum_Insulin': None,\n",
        "    'BMI': 33.6,\n",
        "    'Diabetes_Pedigree': 0.627,\n",
        "    'Age': 50,\n",
        "    'Class': 1\n",
        "}\n",
        "\n",
        "# Create a DataFrame from the new row data\n",
        "new_row_df = pd.DataFrame([new_row_data])\n",
        "\n",
        "# Concatenate the new row to the original DataFrame\n",
        "df = pd.concat([df, new_row_df], ignore_index=True)"
      ]
    },
    {
      "cell_type": "code",
      "execution_count": null,
      "metadata": {
        "colab": {
          "base_uri": "https://localhost:8080/"
        },
        "id": "5MAz4v5NweC3",
        "outputId": "2e7ca54d-d79a-447f-e8b7-d215a2a0f1fa"
      },
      "outputs": [],
      "source": [
        "# d. Display if the dataset has any duplicate entries or not\n",
        "has_duplicates = df.duplicated().any()\n",
        "print(f\"\\nDoes the dataset have duplicate entries? {'Yes' if has_duplicates else 'No'}\")\n",
        "\n",
        "if has_duplicates:\n",
        "    print(\"\\nDuplicate rows:\")\n",
        "    print(df[df.duplicated()])"
      ]
    },
    {
      "cell_type": "code",
      "execution_count": null,
      "metadata": {
        "id": "YqiwS6DqweS7"
      },
      "outputs": [],
      "source": [
        "Develop a python program read a dataset and perform the following using Pandas\n",
        "a. Visualize the dataset using plot().\n",
        "b. Draw the Scatter plot for the dataset on any column.\n",
        "c. Display the scatter plot with different colours.\n",
        "d. Draw the Histogram for the dataset on any column."
      ]
    },
    {
      "cell_type": "code",
      "execution_count": null,
      "metadata": {
        "id": "BKeNXvqOxL8f"
      },
      "outputs": [],
      "source": [
        "import pandas as pd\n",
        "path = \"/content/drive/MyDrive/dataset/sample.csv\""
      ]
    },
    {
      "cell_type": "code",
      "execution_count": null,
      "metadata": {
        "id": "qBfGyfq_xIVV"
      },
      "outputs": [],
      "source": [
        "import matplotlib.pyplot as plt"
      ]
    },
    {
      "cell_type": "code",
      "execution_count": null,
      "metadata": {
        "id": "57j9pVzKxIeV"
      },
      "outputs": [],
      "source": [
        "df = pd.read_csv(path, encoding='latin1')"
      ]
    },
    {
      "cell_type": "code",
      "execution_count": null,
      "metadata": {
        "colab": {
          "base_uri": "https://localhost:8080/",
          "height": 652
        },
        "id": "qStMhpSux5gd",
        "outputId": "1d25a0fb-7f5b-485c-cd61-bfe9bd97b241"
      },
      "outputs": [],
      "source": [
        "plt.figure(figsize=(10, 6))\n",
        "df.plot(kind='line', subplots=True, layout=(5, 5), figsize=(15, 10), title=\"Dataset Visualization\")\n",
        "plt.tight_layout()\n",
        "plt.show()"
      ]
    },
    {
      "cell_type": "code",
      "execution_count": null,
      "metadata": {
        "colab": {
          "base_uri": "https://localhost:8080/",
          "height": 1000
        },
        "id": "TJATOtEhx5pM",
        "outputId": "bceb3aa2-8c8e-4221-ce16-a84dd6eabb78"
      },
      "outputs": [],
      "source": [
        "# The kind parameter in the plot method of a\n",
        "# Pandas DataFrame can be used to specify different types of plots.\n",
        "# Here are some of the common values for the kind parameter and the types of plots they generate:\n",
        "import pandas as pd\n",
        "import matplotlib.pyplot as plt\n",
        "\n",
        "# Sample DataFrame\n",
        "data = {\n",
        "    'A': [1, 2, 3, 4, 5],\n",
        "    'B': [5, 4, 3, 2, 1],\n",
        "    'C': [2, 3, 4, 5, 6]\n",
        "}\n",
        "df1 = pd.DataFrame(data)\n",
        "\n",
        "# Line plot\n",
        "df1.plot(kind='line')\n",
        "plt.show()\n",
        "\n",
        "# Bar plot\n",
        "df1.plot(kind='bar')\n",
        "plt.show()\n",
        "\n",
        "# Histogram\n",
        "df1.plot(kind='hist')\n",
        "plt.show()\n",
        "\n",
        "# Scatter plot\n",
        "df1.plot(kind='scatter', x='A', y='B')\n",
        "plt.show()\n",
        "\n",
        "# Pie plot (for a single series)\n",
        "df1['A'].plot(kind='pie')\n",
        "plt.show()\n",
        "\n",
        "# KDE plot\n",
        "df1.plot(kind='kde')\n",
        "plt.show()\n"
      ]
    },
    {
      "cell_type": "code",
      "execution_count": null,
      "metadata": {
        "colab": {
          "base_uri": "https://localhost:8080/",
          "height": 564
        },
        "id": "7PKVI93Bx5xU",
        "outputId": "feee066f-170b-4c64-e7bd-2ffb3f053c5d"
      },
      "outputs": [],
      "source": [
        "# b. Draw the Scatter plot for the dataset on any column.\n",
        "\n",
        "import pandas as pd\n",
        "import matplotlib.pyplot as plt\n",
        "\n",
        "\n",
        "\n",
        "# Scatter plot for 'Sales' against the DataFrame index\n",
        "plt.figure(figsize=(10, 6))\n",
        "\n",
        "plt.scatter(df.index, df['Sales'], c='blue', alpha=0.6)\n",
        "plt.xlabel('Index')\n",
        "plt.ylabel('Sales')\n",
        "plt.title('Scatter Plot: Sales vs Index')\n",
        "\n",
        "plt.show()\n",
        "# X-axis: Represents the index (row number) of the DataFrame.\n",
        "# Y-axis: Represents the Sales values.\n",
        "# Color: All points are colored blue for simplicity.\n",
        "# This scatter plot helps in visualizing the distribution and potential patterns of the Sales variable across the dataset."
      ]
    },
    {
      "cell_type": "code",
      "execution_count": null,
      "metadata": {
        "colab": {
          "base_uri": "https://localhost:8080/",
          "height": 564
        },
        "id": "jTaa3QJwx5zz",
        "outputId": "921a83e4-4206-4424-fd34-b9158950fda8"
      },
      "outputs": [],
      "source": [
        "# c. Display the scatter plot with different colours.\n",
        "\n",
        "\n",
        "plt.figure(figsize=(10, 6))# Scatter plot for 'Sales' against the DataFrame index with colors based on 'Order Priority'\n",
        "# 'Order Priority' is a categorical variable, encode it as numerical values\n",
        "df['Order_Priority_Code'] = df['Order Priority'].astype('category').cat.codes\n",
        "\n",
        "scatter = plt.scatter(df.index, df['Sales'], c=df['Order_Priority_Code'], cmap='viridis', alpha=0.6)\n",
        "plt.xlabel('Index')\n",
        "plt.ylabel('Sales')\n",
        "plt.title('Scatter Plot: Sales vs Index with Colors Based on Order Priority')\n",
        "\n",
        "# Setting up the color bar to display order priority names\n",
        "order_priorities = df['Order Priority'].astype('category').cat.categories\n",
        "cbar = plt.colorbar(scatter, ticks=range(len(order_priorities)))\n",
        "cbar.ax.set_yticklabels(order_priorities)\n",
        "cbar.set_label('Order Priority')\n",
        "\n",
        "plt.show()"
      ]
    },
    {
      "cell_type": "code",
      "execution_count": null,
      "metadata": {
        "id": "QDiYdTxB6ev6"
      },
      "outputs": [],
      "source": [
        "# d. Draw the Histogram for the dataset on any column.\n",
        "# Draw the Histogram for the 'Sales' column\n",
        "\n",
        "plt.figure(figsize=(10, 6))\n",
        "df['Sales'].plot(kind='hist', bins=20, edgecolor='black')\n",
        "plt.xlabel('Sales')\n",
        "plt.ylabel('Frequency')\n",
        "plt.title('Histogram: Sales Distribution')\n",
        "plt.show()\n",
        "\n",
        "# Draw the bar plot for the 'Region' column\n",
        "plt.figure(figsize=(10, 6))\n",
        "df['Region'].value_counts().plot(kind='bar', edgecolor='black')\n",
        "plt.xlabel('Region')\n",
        "plt.ylabel('Frequency')\n",
        "plt.title('Bar Plot: Region Distribution')\n",
        "plt.show()"
      ]
    },
    {
      "cell_type": "code",
      "execution_count": null,
      "metadata": {
        "colab": {
          "base_uri": "https://localhost:8080/",
          "height": 626
        },
        "id": "DDFzyPPZx510",
        "outputId": "e90e0325-07fa-43a3-f0e2-fa7c583c9122"
      },
      "outputs": [],
      "source": [
        "# Create a histogram-like plot for 'Order Priority' with frequency labels\n",
        "plt.figure(figsize=(10, 6))\n",
        "hist_data = df['Order_Priority_Code'].plot(kind='hist', bins=len(df['Order Priority'].unique()), edgecolor='black', alpha=0.8)\n",
        "plt.xlabel('Order Priority')\n",
        "plt.ylabel('Frequency')\n",
        "plt.title('Histogram: Order Priority Distribution')\n",
        "\n",
        "# Setting up custom ticks to display order priority names instead of codes\n",
        "order_priorities = df['Order Priority'].astype('category').cat.categories\n",
        "plt.xticks(ticks=range(len(order_priorities)), labels=order_priorities, rotation=45)\n",
        "\n",
        "# Adding frequency labels to each bar\n",
        "for patch in hist_data.patches:\n",
        "    height = patch.get_height()\n",
        "    plt.annotate(f'{int(height)}',\n",
        "                 xy=(patch.get_x() + patch.get_width() / 2, height),\n",
        "                 xytext=(0, 5),  # 5 points vertical offset\n",
        "                 textcoords=\"offset points\",\n",
        "                 ha='center', va='bottom')\n",
        "\n",
        "plt.show()\n"
      ]
    },
    {
      "cell_type": "code",
      "execution_count": null,
      "metadata": {
        "id": "ZW4fheyWx55s"
      },
      "outputs": [],
      "source": []
    },
    {
      "cell_type": "code",
      "execution_count": null,
      "metadata": {
        "id": "rOK6cdPGx57r"
      },
      "outputs": [],
      "source": []
    }
  ],
  "metadata": {
    "colab": {
      "provenance": []
    },
    "kernelspec": {
      "display_name": "Python 3",
      "name": "python3"
    },
    "language_info": {
      "name": "python"
    }
  },
  "nbformat": 4,
  "nbformat_minor": 0
}
